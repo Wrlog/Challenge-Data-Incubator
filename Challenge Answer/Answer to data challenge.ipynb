{
 "cells": [
  {
   "cell_type": "code",
   "execution_count": 1,
   "id": "a47422d5",
   "metadata": {},
   "outputs": [
    {
     "name": "stdout",
     "output_type": "stream",
     "text": [
      "Number of rows in the dataset: 1932760\n"
     ]
    }
   ],
   "source": [
    "import pandas as pd\n",
    "\n",
    "# Load the CSV file\n",
    "df = pd.read_csv('boston_311_calls.csv')\n",
    "\n",
    "# Get the number of rows\n",
    "num_rows = len(df)\n",
    "\n",
    "print(\"Number of rows in the dataset:\", num_rows)"
   ]
  },
  {
   "cell_type": "code",
   "execution_count": 2,
   "id": "290e28e0",
   "metadata": {},
   "outputs": [
    {
     "name": "stdout",
     "output_type": "stream",
     "text": [
      "Fraction of calls that deal with traffic: 0.024412239491711334\n"
     ]
    }
   ],
   "source": [
    "import pandas as pd\n",
    "\n",
    "# Load the CSV file\n",
    "df = pd.read_csv('boston_311_calls.csv')\n",
    "\n",
    "# Count the number of calls that deal with traffic\n",
    "traffic_calls = df[df['case_title'].str.contains('traffic', case=False, na=False)]\n",
    "num_traffic_calls = len(traffic_calls)\n",
    "\n",
    "# Calculate the fraction of calls that deal with traffic\n",
    "fraction_traffic_calls = num_traffic_calls / len(df)\n",
    "\n",
    "print(\"Fraction of calls that deal with traffic:\", fraction_traffic_calls)\n"
   ]
  },
  {
   "cell_type": "code",
   "execution_count": 4,
   "id": "39282121",
   "metadata": {},
   "outputs": [
    {
     "name": "stdout",
     "output_type": "stream",
     "text": [
      "Average annual number of calls per police district:\n",
      "police_district\n",
      "A1     18125.000000\n",
      "A15     5379.416667\n",
      "A7      9867.583333\n",
      "B2     16004.583333\n",
      "B3     10619.500000\n",
      "C11    17950.250000\n",
      "C6     15095.500000\n",
      "D14    12767.916667\n",
      "D4     23007.750000\n",
      "E13    10677.250000\n",
      "E18     9466.000000\n",
      "E5     12033.250000\n",
      "Name: calls, dtype: float64\n",
      "Median of the average annual number of calls per police district:\n",
      "12400.583333333332\n"
     ]
    }
   ],
   "source": [
    "import pandas as pd\n",
    "\n",
    "# Read in the CSV file\n",
    "df = pd.read_csv('boston_311_calls.csv')\n",
    "\n",
    "# Clean the police_district column\n",
    "df['police_district'] = df['police_district'].str.replace('-', '')\n",
    "\n",
    "# Convert the open_dt column to a datetime data type\n",
    "df['open_dt'] = pd.to_datetime(df['open_dt'])\n",
    "\n",
    "# Calculate the number of calls per police district per year\n",
    "df['year'] = df['open_dt'].dt.year\n",
    "calls_per_district_per_year = df.groupby(['year', 'police_district']).size().reset_index(name='calls')\n",
    "\n",
    "# Calculate the average annual number of calls per police district\n",
    "avg_calls_per_district_per_year = calls_per_district_per_year.groupby('police_district')['calls'].mean()\n",
    "\n",
    "# Calculate the median of the average annual number of calls per police district\n",
    "median_avg_calls_per_district_per_year = avg_calls_per_district_per_year.median()\n",
    "\n",
    "print(\"Average annual number of calls per police district:\")\n",
    "print(avg_calls_per_district_per_year)\n",
    "print(\"Median of the average annual number of calls per police district:\")\n",
    "print(median_avg_calls_per_district_per_year)\n"
   ]
  },
  {
   "cell_type": "code",
   "execution_count": 5,
   "id": "01217b41",
   "metadata": {},
   "outputs": [
    {
     "ename": "ValueError",
     "evalue": "You are trying to merge on object and int64 columns. If you wish to proceed you should use pd.concat",
     "output_type": "error",
     "traceback": [
      "\u001b[1;31m---------------------------------------------------------------------------\u001b[0m",
      "\u001b[1;31mValueError\u001b[0m                                Traceback (most recent call last)",
      "Cell \u001b[1;32mIn[5], line 15\u001b[0m\n\u001b[0;32m     12\u001b[0m zip_call_counts \u001b[38;5;241m=\u001b[39m boston_311_calls\u001b[38;5;241m.\u001b[39mgroupby(\u001b[38;5;124m\"\u001b[39m\u001b[38;5;124mZip Code\u001b[39m\u001b[38;5;124m\"\u001b[39m)\u001b[38;5;241m.\u001b[39msize()\u001b[38;5;241m.\u001b[39mreset_index(name\u001b[38;5;241m=\u001b[39m\u001b[38;5;124m\"\u001b[39m\u001b[38;5;124mCall Count\u001b[39m\u001b[38;5;124m\"\u001b[39m)\n\u001b[0;32m     14\u001b[0m \u001b[38;5;66;03m# Merge the dataframes based on the ZIP code\u001b[39;00m\n\u001b[1;32m---> 15\u001b[0m merged_data \u001b[38;5;241m=\u001b[39m \u001b[43mpd\u001b[49m\u001b[38;5;241;43m.\u001b[39;49m\u001b[43mmerge\u001b[49m\u001b[43m(\u001b[49m\u001b[43mzip_call_counts\u001b[49m\u001b[43m,\u001b[49m\u001b[43m \u001b[49m\u001b[43mboston_population_by_zip\u001b[49m\u001b[43m,\u001b[49m\u001b[43m \u001b[49m\u001b[43mon\u001b[49m\u001b[38;5;241;43m=\u001b[39;49m\u001b[38;5;124;43m\"\u001b[39;49m\u001b[38;5;124;43mZip Code\u001b[39;49m\u001b[38;5;124;43m\"\u001b[39;49m\u001b[43m)\u001b[49m\n\u001b[0;32m     17\u001b[0m \u001b[38;5;66;03m# Filter out ZIP codes with less than 100 calls\u001b[39;00m\n\u001b[0;32m     18\u001b[0m merged_data \u001b[38;5;241m=\u001b[39m merged_data[merged_data[\u001b[38;5;124m\"\u001b[39m\u001b[38;5;124mCall Count\u001b[39m\u001b[38;5;124m\"\u001b[39m] \u001b[38;5;241m>\u001b[39m \u001b[38;5;241m100\u001b[39m]\n",
      "File \u001b[1;32m~\\miniconda3\\lib\\site-packages\\pandas\\core\\reshape\\merge.py:106\u001b[0m, in \u001b[0;36mmerge\u001b[1;34m(left, right, how, on, left_on, right_on, left_index, right_index, sort, suffixes, copy, indicator, validate)\u001b[0m\n\u001b[0;32m     89\u001b[0m \u001b[38;5;129m@Substitution\u001b[39m(\u001b[38;5;124m\"\u001b[39m\u001b[38;5;130;01m\\n\u001b[39;00m\u001b[38;5;124mleft : DataFrame or named Series\u001b[39m\u001b[38;5;124m\"\u001b[39m)\n\u001b[0;32m     90\u001b[0m \u001b[38;5;129m@Appender\u001b[39m(_merge_doc, indents\u001b[38;5;241m=\u001b[39m\u001b[38;5;241m0\u001b[39m)\n\u001b[0;32m     91\u001b[0m \u001b[38;5;28;01mdef\u001b[39;00m \u001b[38;5;21mmerge\u001b[39m(\n\u001b[1;32m   (...)\u001b[0m\n\u001b[0;32m    104\u001b[0m     validate: \u001b[38;5;28mstr\u001b[39m \u001b[38;5;241m|\u001b[39m \u001b[38;5;28;01mNone\u001b[39;00m \u001b[38;5;241m=\u001b[39m \u001b[38;5;28;01mNone\u001b[39;00m,\n\u001b[0;32m    105\u001b[0m ) \u001b[38;5;241m-\u001b[39m\u001b[38;5;241m>\u001b[39m DataFrame:\n\u001b[1;32m--> 106\u001b[0m     op \u001b[38;5;241m=\u001b[39m \u001b[43m_MergeOperation\u001b[49m\u001b[43m(\u001b[49m\n\u001b[0;32m    107\u001b[0m \u001b[43m        \u001b[49m\u001b[43mleft\u001b[49m\u001b[43m,\u001b[49m\n\u001b[0;32m    108\u001b[0m \u001b[43m        \u001b[49m\u001b[43mright\u001b[49m\u001b[43m,\u001b[49m\n\u001b[0;32m    109\u001b[0m \u001b[43m        \u001b[49m\u001b[43mhow\u001b[49m\u001b[38;5;241;43m=\u001b[39;49m\u001b[43mhow\u001b[49m\u001b[43m,\u001b[49m\n\u001b[0;32m    110\u001b[0m \u001b[43m        \u001b[49m\u001b[43mon\u001b[49m\u001b[38;5;241;43m=\u001b[39;49m\u001b[43mon\u001b[49m\u001b[43m,\u001b[49m\n\u001b[0;32m    111\u001b[0m \u001b[43m        \u001b[49m\u001b[43mleft_on\u001b[49m\u001b[38;5;241;43m=\u001b[39;49m\u001b[43mleft_on\u001b[49m\u001b[43m,\u001b[49m\n\u001b[0;32m    112\u001b[0m \u001b[43m        \u001b[49m\u001b[43mright_on\u001b[49m\u001b[38;5;241;43m=\u001b[39;49m\u001b[43mright_on\u001b[49m\u001b[43m,\u001b[49m\n\u001b[0;32m    113\u001b[0m \u001b[43m        \u001b[49m\u001b[43mleft_index\u001b[49m\u001b[38;5;241;43m=\u001b[39;49m\u001b[43mleft_index\u001b[49m\u001b[43m,\u001b[49m\n\u001b[0;32m    114\u001b[0m \u001b[43m        \u001b[49m\u001b[43mright_index\u001b[49m\u001b[38;5;241;43m=\u001b[39;49m\u001b[43mright_index\u001b[49m\u001b[43m,\u001b[49m\n\u001b[0;32m    115\u001b[0m \u001b[43m        \u001b[49m\u001b[43msort\u001b[49m\u001b[38;5;241;43m=\u001b[39;49m\u001b[43msort\u001b[49m\u001b[43m,\u001b[49m\n\u001b[0;32m    116\u001b[0m \u001b[43m        \u001b[49m\u001b[43msuffixes\u001b[49m\u001b[38;5;241;43m=\u001b[39;49m\u001b[43msuffixes\u001b[49m\u001b[43m,\u001b[49m\n\u001b[0;32m    117\u001b[0m \u001b[43m        \u001b[49m\u001b[43mcopy\u001b[49m\u001b[38;5;241;43m=\u001b[39;49m\u001b[43mcopy\u001b[49m\u001b[43m,\u001b[49m\n\u001b[0;32m    118\u001b[0m \u001b[43m        \u001b[49m\u001b[43mindicator\u001b[49m\u001b[38;5;241;43m=\u001b[39;49m\u001b[43mindicator\u001b[49m\u001b[43m,\u001b[49m\n\u001b[0;32m    119\u001b[0m \u001b[43m        \u001b[49m\u001b[43mvalidate\u001b[49m\u001b[38;5;241;43m=\u001b[39;49m\u001b[43mvalidate\u001b[49m\u001b[43m,\u001b[49m\n\u001b[0;32m    120\u001b[0m \u001b[43m    \u001b[49m\u001b[43m)\u001b[49m\n\u001b[0;32m    121\u001b[0m     \u001b[38;5;28;01mreturn\u001b[39;00m op\u001b[38;5;241m.\u001b[39mget_result()\n",
      "File \u001b[1;32m~\\miniconda3\\lib\\site-packages\\pandas\\core\\reshape\\merge.py:703\u001b[0m, in \u001b[0;36m_MergeOperation.__init__\u001b[1;34m(self, left, right, how, on, left_on, right_on, axis, left_index, right_index, sort, suffixes, copy, indicator, validate)\u001b[0m\n\u001b[0;32m    695\u001b[0m (\n\u001b[0;32m    696\u001b[0m     \u001b[38;5;28mself\u001b[39m\u001b[38;5;241m.\u001b[39mleft_join_keys,\n\u001b[0;32m    697\u001b[0m     \u001b[38;5;28mself\u001b[39m\u001b[38;5;241m.\u001b[39mright_join_keys,\n\u001b[0;32m    698\u001b[0m     \u001b[38;5;28mself\u001b[39m\u001b[38;5;241m.\u001b[39mjoin_names,\n\u001b[0;32m    699\u001b[0m ) \u001b[38;5;241m=\u001b[39m \u001b[38;5;28mself\u001b[39m\u001b[38;5;241m.\u001b[39m_get_merge_keys()\n\u001b[0;32m    701\u001b[0m \u001b[38;5;66;03m# validate the merge keys dtypes. We may need to coerce\u001b[39;00m\n\u001b[0;32m    702\u001b[0m \u001b[38;5;66;03m# to avoid incompatible dtypes\u001b[39;00m\n\u001b[1;32m--> 703\u001b[0m \u001b[38;5;28;43mself\u001b[39;49m\u001b[38;5;241;43m.\u001b[39;49m\u001b[43m_maybe_coerce_merge_keys\u001b[49m\u001b[43m(\u001b[49m\u001b[43m)\u001b[49m\n\u001b[0;32m    705\u001b[0m \u001b[38;5;66;03m# If argument passed to validate,\u001b[39;00m\n\u001b[0;32m    706\u001b[0m \u001b[38;5;66;03m# check if columns specified as unique\u001b[39;00m\n\u001b[0;32m    707\u001b[0m \u001b[38;5;66;03m# are in fact unique.\u001b[39;00m\n\u001b[0;32m    708\u001b[0m \u001b[38;5;28;01mif\u001b[39;00m validate \u001b[38;5;129;01mis\u001b[39;00m \u001b[38;5;129;01mnot\u001b[39;00m \u001b[38;5;28;01mNone\u001b[39;00m:\n",
      "File \u001b[1;32m~\\miniconda3\\lib\\site-packages\\pandas\\core\\reshape\\merge.py:1256\u001b[0m, in \u001b[0;36m_MergeOperation._maybe_coerce_merge_keys\u001b[1;34m(self)\u001b[0m\n\u001b[0;32m   1250\u001b[0m     \u001b[38;5;66;03m# unless we are merging non-string-like with string-like\u001b[39;00m\n\u001b[0;32m   1251\u001b[0m     \u001b[38;5;28;01melif\u001b[39;00m (\n\u001b[0;32m   1252\u001b[0m         inferred_left \u001b[38;5;129;01min\u001b[39;00m string_types \u001b[38;5;129;01mand\u001b[39;00m inferred_right \u001b[38;5;129;01mnot\u001b[39;00m \u001b[38;5;129;01min\u001b[39;00m string_types\n\u001b[0;32m   1253\u001b[0m     ) \u001b[38;5;129;01mor\u001b[39;00m (\n\u001b[0;32m   1254\u001b[0m         inferred_right \u001b[38;5;129;01min\u001b[39;00m string_types \u001b[38;5;129;01mand\u001b[39;00m inferred_left \u001b[38;5;129;01mnot\u001b[39;00m \u001b[38;5;129;01min\u001b[39;00m string_types\n\u001b[0;32m   1255\u001b[0m     ):\n\u001b[1;32m-> 1256\u001b[0m         \u001b[38;5;28;01mraise\u001b[39;00m \u001b[38;5;167;01mValueError\u001b[39;00m(msg)\n\u001b[0;32m   1258\u001b[0m \u001b[38;5;66;03m# datetimelikes must match exactly\u001b[39;00m\n\u001b[0;32m   1259\u001b[0m \u001b[38;5;28;01melif\u001b[39;00m needs_i8_conversion(lk\u001b[38;5;241m.\u001b[39mdtype) \u001b[38;5;129;01mand\u001b[39;00m \u001b[38;5;129;01mnot\u001b[39;00m needs_i8_conversion(rk\u001b[38;5;241m.\u001b[39mdtype):\n",
      "\u001b[1;31mValueError\u001b[0m: You are trying to merge on object and int64 columns. If you wish to proceed you should use pd.concat"
     ]
    }
   ],
   "source": [
    "import pandas as pd\n",
    "from scipy.stats import pearsonr\n",
    "\n",
    "# Load the data\n",
    "boston_311_calls = pd.read_csv(\"boston_311_calls.csv\")\n",
    "boston_population_by_zip = pd.read_csv(\"boston_population_by_zip.csv\")\n",
    "\n",
    "# Extract ZIP code from the \"location\" column\n",
    "boston_311_calls[\"Zip Code\"] = boston_311_calls[\"location\"].str.extract(r\"(\\d{5})\")\n",
    "\n",
    "# Group by ZIP code and count the calls\n",
    "zip_call_counts = boston_311_calls.groupby(\"Zip Code\").size().reset_index(name=\"Call Count\")\n",
    "\n",
    "# Merge the dataframes based on the ZIP code\n",
    "merged_data = pd.merge(zip_call_counts, boston_population_by_zip, on=\"Zip Code\")\n",
    "\n",
    "# Filter out ZIP codes with less than 100 calls\n",
    "merged_data = merged_data[merged_data[\"Call Count\"] > 100]\n",
    "\n",
    "# Calculate the Pearson correlation coefficient\n",
    "corr, _ = pearsonr(merged_data[\"Call Count\"], merged_data[\"Population\"])\n",
    "\n",
    "print(f\"Pearson correlation coefficient: {corr}\")\n"
   ]
  },
  {
   "cell_type": "code",
   "execution_count": 6,
   "id": "c0b57231",
   "metadata": {},
   "outputs": [
    {
     "name": "stdout",
     "output_type": "stream",
     "text": [
      "Pearson correlation coefficient: 0.8643031213852037\n"
     ]
    }
   ],
   "source": [
    "import pandas as pd\n",
    "from scipy.stats import pearsonr\n",
    "\n",
    "# Load the data\n",
    "boston_311_calls = pd.read_csv(\"boston_311_calls.csv\")\n",
    "boston_population_by_zip = pd.read_csv(\"boston_population_by_zip.csv\")\n",
    "\n",
    "# Extract ZIP code from the \"location\" column\n",
    "boston_311_calls[\"Zip Code\"] = boston_311_calls[\"location\"].str.extract(r\"(\\d{5})\")\n",
    "\n",
    "# Convert 'Zip Code' to int64\n",
    "boston_311_calls[\"Zip Code\"] = pd.to_numeric(boston_311_calls[\"Zip Code\"], errors=\"coerce\").dropna().astype(\"int64\")\n",
    "boston_population_by_zip[\"Zip Code\"] = boston_population_by_zip[\"Zip Code\"].astype(\"int64\")\n",
    "\n",
    "# Group by ZIP code and count the calls\n",
    "zip_call_counts = boston_311_calls.groupby(\"Zip Code\").size().reset_index(name=\"Call Count\")\n",
    "\n",
    "# Merge the dataframes based on the ZIP code\n",
    "merged_data = pd.merge(zip_call_counts, boston_population_by_zip, on=\"Zip Code\")\n",
    "\n",
    "# Filter out ZIP codes with less than 100 calls\n",
    "merged_data = merged_data[merged_data[\"Call Count\"] > 100]\n",
    "\n",
    "# Calculate the Pearson correlation coefficient\n",
    "corr, _ = pearsonr(merged_data[\"Call Count\"], merged_data[\"Population\"])\n",
    "\n",
    "print(f\"Pearson correlation coefficient: {corr}\")\n"
   ]
  },
  {
   "cell_type": "code",
   "execution_count": 7,
   "id": "aa8d6f71",
   "metadata": {},
   "outputs": [
    {
     "data": {
      "image/png": "[encoded data removed]",
      "text/plain": [
       "<Figure size 640x480 with 1 Axes>"
      ]
     },
     "metadata": {},
     "output_type": "display_data"
    },
    {
     "name": "stdout",
     "output_type": "stream",
     "text": [
      "Estimated increase in calls per year: 15012.81818181756\n"
     ]
    }
   ],
   "source": [
    "import pandas as pd\n",
    "import numpy as np\n",
    "import matplotlib.pyplot as plt\n",
    "\n",
    "# Load the data\n",
    "boston_311_calls = pd.read_csv(\"boston_311_calls.csv\")\n",
    "\n",
    "# Convert 'open_dt' to datetime\n",
    "boston_311_calls[\"open_dt\"] = pd.to_datetime(boston_311_calls[\"open_dt\"])\n",
    "\n",
    "# Extract the year from the 'open_dt' column\n",
    "boston_311_calls[\"year\"] = boston_311_calls[\"open_dt\"].dt.year\n",
    "\n",
    "# Group by year and count the calls\n",
    "annual_call_counts = boston_311_calls.groupby(\"year\").size().reset_index(name=\"Call Count\")\n",
    "\n",
    "# Estimate the line of best fit\n",
    "x = annual_call_counts[\"year\"]\n",
    "y = annual_call_counts[\"Call Count\"]\n",
    "coef = np.polyfit(x, y, 1)\n",
    "poly1d_fn = np.poly1d(coef)\n",
    "\n",
    "# Visualize the trend\n",
    "plt.plot(x, y, 'bo', x, poly1d_fn(x), '-r')\n",
    "plt.xlabel(\"Year\")\n",
    "plt.ylabel(\"Number of Calls\")\n",
    "plt.title(\"Annual Number of Calls\")\n",
    "plt.legend([\"Data\", \"Best Fit\"])\n",
    "plt.show()\n",
    "\n",
    "# Print the increase in calls per year\n",
    "print(f\"Estimated increase in calls per year: {coef[0]}\")\n"
   ]
  },
  {
   "cell_type": "code",
   "execution_count": 9,
   "id": "371ab4a9",
   "metadata": {},
   "outputs": [
    {
     "name": "stderr",
     "output_type": "stream",
     "text": [
      "C:\\Users\\tanwe\\AppData\\Local\\Temp\\ipykernel_35120\\2552278271.py:19: SettingWithCopyWarning: \n",
      "A value is trying to be set on a copy of a slice from a DataFrame.\n",
      "Try using .loc[row_indexer,col_indexer] = value instead\n",
      "\n",
      "See the caveats in the documentation: https://pandas.pydata.org/pandas-docs/stable/user_guide/indexing.html#returning-a-view-versus-a-copy\n",
      "  filtered_calls[\"open_dt\"] = pd.to_datetime(filtered_calls[\"open_dt\"])\n"
     ]
    },
    {
     "name": "stdout",
     "output_type": "stream",
     "text": [
      "On average, requests for street cleaning are made 2.3591893039049237 days after garbage collection.\n"
     ]
    },
    {
     "name": "stderr",
     "output_type": "stream",
     "text": [
      "C:\\Users\\tanwe\\AppData\\Local\\Temp\\ipykernel_35120\\2552278271.py:30: SettingWithCopyWarning: \n",
      "A value is trying to be set on a copy of a slice from a DataFrame.\n",
      "Try using .loc[row_indexer,col_indexer] = value instead\n",
      "\n",
      "See the caveats in the documentation: https://pandas.pydata.org/pandas-docs/stable/user_guide/indexing.html#returning-a-view-versus-a-copy\n",
      "  filtered_calls[\"trashday\"] = filtered_calls.apply(\n",
      "C:\\Users\\tanwe\\AppData\\Local\\Temp\\ipykernel_35120\\2552278271.py:36: SettingWithCopyWarning: \n",
      "A value is trying to be set on a copy of a slice from a DataFrame.\n",
      "Try using .loc[row_indexer,col_indexer] = value instead\n",
      "\n",
      "See the caveats in the documentation: https://pandas.pydata.org/pandas-docs/stable/user_guide/indexing.html#returning-a-view-versus-a-copy\n",
      "  filtered_calls[\"trashday\"] = pd.to_datetime(\n",
      "C:\\Users\\tanwe\\AppData\\Local\\Temp\\ipykernel_35120\\2552278271.py:43: SettingWithCopyWarning: \n",
      "A value is trying to be set on a copy of a slice from a DataFrame.\n",
      "Try using .loc[row_indexer,col_indexer] = value instead\n",
      "\n",
      "See the caveats in the documentation: https://pandas.pydata.org/pandas-docs/stable/user_guide/indexing.html#returning-a-view-versus-a-copy\n",
      "  filtered_calls[\"days_after_garbage_collection\"] = (\n"
     ]
    }
   ],
   "source": [
    "import pandas as pd\n",
    "from datetime import timedelta\n",
    "from scipy.spatial.distance import cdist\n",
    "\n",
    "# Load the data\n",
    "boston_311_calls = pd.read_csv(\"boston_311_calls.csv\")\n",
    "boston_garbage_schedule = pd.read_csv(\"boston_02128_garbage_schedule.csv\")\n",
    "\n",
    "# Extract ZIP code from the \"location\" column\n",
    "boston_311_calls[\"Zip Code\"] = boston_311_calls[\"location\"].str.extract(r\"(\\d{5})\")\n",
    "\n",
    "# Filter service requests from ZIP code \"02128\" with \"Requests for Street Cleaning\"\n",
    "filtered_calls = boston_311_calls[\n",
    "    (boston_311_calls[\"Zip Code\"] == \"02128\") &\n",
    "    (boston_311_calls[\"type\"] == \"Requests for Street Cleaning\")\n",
    "]\n",
    "\n",
    "# Convert 'open_dt' to datetime\n",
    "filtered_calls[\"open_dt\"] = pd.to_datetime(filtered_calls[\"open_dt\"])\n",
    "\n",
    "# Determine the closest collection point using Euclidean distance\n",
    "def find_closest_trashday(row, collection_points):\n",
    "    distances = cdist(\n",
    "        [[row[\"latitude\"], row[\"longitude\"]]],\n",
    "        collection_points[[\"latitude\", \"longitude\"]]\n",
    "    )\n",
    "    closest_point_index = distances.argmin()\n",
    "    return collection_points.iloc[closest_point_index][\"trashday\"]\n",
    "\n",
    "filtered_calls[\"trashday\"] = filtered_calls.apply(\n",
    "    lambda row: find_closest_trashday(row, boston_garbage_schedule),\n",
    "    axis=1\n",
    ")\n",
    "\n",
    "# Convert 'trashday' to datetime\n",
    "filtered_calls[\"trashday\"] = pd.to_datetime(\n",
    "    filtered_calls[\"trashday\"],\n",
    "    format=\"%A\",\n",
    "    errors=\"coerce\"\n",
    ").dt.dayofweek\n",
    "\n",
    "# Calculate the days after garbage collection\n",
    "filtered_calls[\"days_after_garbage_collection\"] = (\n",
    "    filtered_calls[\"open_dt\"].dt.dayofweek - filtered_calls[\"trashday\"]\n",
    ") % 7\n",
    "\n",
    "# Calculate the average days after garbage collection\n",
    "average_days = filtered_calls[\"days_after_garbage_collection\"].mean()\n",
    "\n",
    "print(f\"On average, requests for street cleaning are made {average_days} days after garbage collection.\")\n"
   ]
  },
  {
   "cell_type": "code",
   "execution_count": 10,
   "id": "c4817ff1",
   "metadata": {},
   "outputs": [
    {
     "name": "stdout",
     "output_type": "stream",
     "text": [
      "On average, requests for street cleaning are made 2.3591893039049237 days after garbage collection.\n"
     ]
    }
   ],
   "source": [
    "import pandas as pd\n",
    "from datetime import timedelta\n",
    "from scipy.spatial.distance import cdist\n",
    "\n",
    "# Load the data\n",
    "boston_311_calls = pd.read_csv(\"boston_311_calls.csv\")\n",
    "boston_garbage_schedule = pd.read_csv(\"boston_02128_garbage_schedule.csv\")\n",
    "\n",
    "# Extract ZIP code from the \"location\" column\n",
    "boston_311_calls[\"Zip Code\"] = boston_311_calls[\"location\"].str.extract(r\"(\\d{5})\")\n",
    "\n",
    "# Filter service requests from ZIP code \"02128\" with \"Requests for Street Cleaning\"\n",
    "filtered_calls = boston_311_calls[\n",
    "    (boston_311_calls[\"Zip Code\"] == \"02128\") &\n",
    "    (boston_311_calls[\"type\"] == \"Requests for Street Cleaning\")\n",
    "].copy()\n",
    "\n",
    "# Convert 'open_dt' to datetime\n",
    "filtered_calls.loc[:, \"open_dt\"] = pd.to_datetime(filtered_calls[\"open_dt\"])\n",
    "\n",
    "# Determine the closest collection point using Euclidean distance\n",
    "def find_closest_trashday(row, collection_points):\n",
    "    distances = cdist(\n",
    "        [[row[\"latitude\"], row[\"longitude\"]]],\n",
    "        collection_points[[\"latitude\", \"longitude\"]]\n",
    "    )\n",
    "    closest_point_index = distances.argmin()\n",
    "    return collection_points.iloc[closest_point_index][\"trashday\"]\n",
    "\n",
    "filtered_calls.loc[:, \"trashday\"] = filtered_calls.apply(\n",
    "    lambda row: find_closest_trashday(row, boston_garbage_schedule),\n",
    "    axis=1\n",
    ")\n",
    "\n",
    "# Convert 'trashday' to datetime\n",
    "filtered_calls.loc[:, \"trashday\"] = pd.to_datetime(\n",
    "    filtered_calls[\"trashday\"],\n",
    "    format=\"%A\",\n",
    "    errors=\"coerce\"\n",
    ").dt.dayofweek\n",
    "\n",
    "# Calculate the days after garbage collection\n",
    "filtered_calls.loc[:, \"days_after_garbage_collection\"] = (\n",
    "    filtered_calls[\"open_dt\"].dt.dayofweek - filtered_calls[\"trashday\"]\n",
    ") % 7\n",
    "\n",
    "# Calculate the average days after garbage collection\n",
    "average_days = filtered_calls[\"days_after_garbage_collection\"].mean()\n",
    "\n",
    "print(f\"On average, requests for street cleaning are made {average_days} days after garbage collection.\")\n"
   ]
  },
  {
   "cell_type": "code",
   "execution_count": null,
   "id": "3d64b03a",
   "metadata": {},
   "outputs": [],
   "source": []
  }
 ],
 "metadata": {
  "kernelspec": {
   "display_name": "Python 3 (ipykernel)",
   "language": "python",
   "name": "python3"
  },
  "language_info": {
   "codemirror_mode": {
    "name": "ipython",
    "version": 3
   },
   "file_extension": ".py",
   "mimetype": "text/x-python",
   "name": "python",
   "nbconvert_exporter": "python",
   "pygments_lexer": "ipython3",
   "version": "3.9.12"
  }
 },
 "nbformat": 4,
 "nbformat_minor": 5
}
