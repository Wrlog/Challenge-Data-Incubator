{
 "cells": [
  {
   "cell_type": "code",
   "execution_count": 1,
   "id": "96042313",
   "metadata": {},
   "outputs": [
    {
     "name": "stdout",
     "output_type": "stream",
     "text": [
      "Expected score after 7 flips: 32.171875\n"
     ]
    }
   ],
   "source": [
    "from functools import lru_cache\n",
    "\n",
    "@lru_cache(maxsize=None)\n",
    "def expected_score(flips_remaining, current_score):\n",
    "    if flips_remaining == 0:\n",
    "        return current_score\n",
    "\n",
    "    # Probability of getting heads (0.5)\n",
    "    expected_heads = 0.5 * expected_score(flips_remaining - 1, current_score + 2)\n",
    "\n",
    "    # Probability of getting tails (0.5)\n",
    "    expected_tails = 0.5 * expected_score(flips_remaining - 1, current_score * 2)\n",
    "\n",
    "    return expected_heads + expected_tails\n",
    "\n",
    "flips = 7\n",
    "initial_score = 0\n",
    "result = expected_score(flips, initial_score)\n",
    "\n",
    "print(f\"Expected score after {flips} flips: {result:.6f}\")\n"
   ]
  },
  {
   "cell_type": "code",
   "execution_count": 2,
   "id": "0517dd2e",
   "metadata": {},
   "outputs": [
    {
     "name": "stdout",
     "output_type": "stream",
     "text": [
      "Expected standard deviation of the scores after 7 flips: 22.822301\n"
     ]
    }
   ],
   "source": [
    "import random\n",
    "import numpy as np\n",
    "\n",
    "def simulate_game(flips):\n",
    "    score = 0\n",
    "    for _ in range(flips):\n",
    "        flip = random.choice([\"H\", \"T\"])\n",
    "        if flip == \"H\":\n",
    "            score += 2\n",
    "        else:\n",
    "            score *= 2\n",
    "    return score\n",
    "\n",
    "def simulate_games(num_games, flips):\n",
    "    scores = [simulate_game(flips) for _ in range(num_games)]\n",
    "    return scores\n",
    "\n",
    "num_games = 100000\n",
    "flips = 7\n",
    "\n",
    "scores = simulate_games(num_games, flips)\n",
    "std_dev = np.std(scores)\n",
    "\n",
    "print(f\"Expected standard deviation of the scores after {flips} flips: {std_dev:.6f}\")\n"
   ]
  },
  {
   "cell_type": "code",
   "execution_count": 3,
   "id": "7fe67b9e",
   "metadata": {},
   "outputs": [
    {
     "name": "stdout",
     "output_type": "stream",
     "text": [
      "Probability of getting a score larger than 40 after 7 flips: 0.234375\n"
     ]
    }
   ],
   "source": [
    "from functools import lru_cache\n",
    "\n",
    "@lru_cache(maxsize=None)\n",
    "def count_outcomes(flips_remaining, current_score, target_score):\n",
    "    if flips_remaining == 0:\n",
    "        return 1 if current_score > target_score else 0\n",
    "\n",
    "    # Probability of getting heads (0.5)\n",
    "    count_heads = count_outcomes(flips_remaining - 1, current_score + 2, target_score)\n",
    "\n",
    "    # Probability of getting tails (0.5)\n",
    "    count_tails = count_outcomes(flips_remaining - 1, current_score * 2, target_score)\n",
    "\n",
    "    return count_heads + count_tails\n",
    "\n",
    "flips = 7\n",
    "initial_score = 0\n",
    "target_score = 40\n",
    "total_outcomes = 2 ** flips\n",
    "\n",
    "count_greater_than_target = count_outcomes(flips, initial_score, target_score)\n",
    "probability = count_greater_than_target / total_outcomes\n",
    "\n",
    "print(f\"Probability of getting a score larger than {target_score} after {flips} flips: {probability:.6f}\")\n"
   ]
  },
  {
   "cell_type": "code",
   "execution_count": 4,
   "id": "74e58d65",
   "metadata": {},
   "outputs": [
    {
     "name": "stdout",
     "output_type": "stream",
     "text": [
      "Expected score with unfair coin after 20 flips: 882.231643\n"
     ]
    }
   ],
   "source": [
    "from functools import lru_cache\n",
    "\n",
    "@lru_cache(maxsize=None)\n",
    "def expected_score_unfair(flips_remaining, current_score, prob_heads):\n",
    "    if flips_remaining == 0:\n",
    "        return current_score\n",
    "\n",
    "    prob_tails = 1 - prob_heads\n",
    "\n",
    "    # Probability of getting heads (0.7)\n",
    "    expected_heads = prob_heads * expected_score_unfair(flips_remaining - 1, current_score + 2, prob_heads)\n",
    "\n",
    "    # Probability of getting tails (0.3)\n",
    "    expected_tails = prob_tails * expected_score_unfair(flips_remaining - 1, current_score * 2, prob_heads)\n",
    "\n",
    "    return expected_heads + expected_tails\n",
    "\n",
    "flips = 20\n",
    "initial_score = 0\n",
    "prob_heads = 0.7\n",
    "result = expected_score_unfair(flips, initial_score, prob_heads)\n",
    "\n",
    "print(f\"Expected score with unfair coin after {flips} flips: {result:.6f}\")\n"
   ]
  },
  {
   "cell_type": "code",
   "execution_count": 5,
   "id": "e998b48f",
   "metadata": {},
   "outputs": [
    {
     "name": "stdout",
     "output_type": "stream",
     "text": [
      "Standard deviation of the scores after 7 flips with a fair coin: 22.861859\n"
     ]
    }
   ],
   "source": [
    "import random\n",
    "import numpy as np\n",
    "\n",
    "def simulate_game(flips):\n",
    "    score = 0\n",
    "    for _ in range(flips):\n",
    "        flip = random.choice([\"H\", \"T\"])\n",
    "        if flip == \"H\":\n",
    "            score += 2\n",
    "        else:\n",
    "            score *= 2\n",
    "    return score\n",
    "\n",
    "def simulate_games(num_games, flips):\n",
    "    scores = [simulate_game(flips) for _ in range(num_games)]\n",
    "    return scores\n",
    "\n",
    "num_games = 100000\n",
    "flips = 7\n",
    "\n",
    "scores = simulate_games(num_games, flips)\n",
    "std_dev = np.std(scores)\n",
    "\n",
    "print(f\"Standard deviation of the scores after {flips} flips with a fair coin: {std_dev:.6f}\")\n"
   ]
  },
  {
   "cell_type": "code",
   "execution_count": null,
   "id": "74f41b6d",
   "metadata": {},
   "outputs": [],
   "source": []
  }
 ],
 "metadata": {
  "kernelspec": {
   "display_name": "Python 3 (ipykernel)",
   "language": "python",
   "name": "python3"
  },
  "language_info": {
   "codemirror_mode": {
    "name": "ipython",
    "version": 3
   },
   "file_extension": ".py",
   "mimetype": "text/x-python",
   "name": "python",
   "nbconvert_exporter": "python",
   "pygments_lexer": "ipython3",
   "version": "3.9.12"
  }
 },
 "nbformat": 4,
 "nbformat_minor": 5
}
